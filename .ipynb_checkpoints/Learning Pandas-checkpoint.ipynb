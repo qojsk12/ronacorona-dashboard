{
 "cells": [
  {
   "cell_type": "code",
   "execution_count": 15,
   "id": "5868fc10-f3e1-4db8-ad98-2384e7dc32b2",
   "metadata": {
    "scrolled": true
   },
   "outputs": [
    {
     "data": {
      "text/plain": [
       "pandas.core.series.Series"
      ]
     },
     "execution_count": 15,
     "metadata": {},
     "output_type": "execute_result"
    }
   ],
   "source": [
    "import pandas as pd\n",
    "df = pd.read_csv(r'G:\\내 드라이브\\노마드코더\\ronacorona-dashboard\\data\\time_confirmed.csv')\n",
    "df = df.drop([\"Province/State\",\"Country/Region\",\"Lat\",\"Long\"], axis = 1).sum().reset_index()\n",
    "df"
   ]
  },
  {
   "cell_type": "code",
   "execution_count": null,
   "id": "d501b171-99d3-4580-9e57-998abddbd703",
   "metadata": {},
   "outputs": [],
   "source": []
  }
 ],
 "metadata": {
  "kernelspec": {
   "display_name": "Python 3 (ipykernel)",
   "language": "python",
   "name": "python3"
  },
  "language_info": {
   "codemirror_mode": {
    "name": "ipython",
    "version": 3
   },
   "file_extension": ".py",
   "mimetype": "text/x-python",
   "name": "python",
   "nbconvert_exporter": "python",
   "pygments_lexer": "ipython3",
   "version": "3.12.4"
  }
 },
 "nbformat": 4,
 "nbformat_minor": 5
}

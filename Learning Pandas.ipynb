{
 "cells": [
  {
   "cell_type": "markdown",
   "id": "1148fe7b-da03-4fb7-b27e-8bbc191b8b90",
   "metadata": {
    "scrolled": true
   },
   "source": [
    "# import pandas as pd\n",
    "\n",
    "daily_df = pd.read_csv(r'G:\\내 드라이브\\노마드코더\\ronacorona-dashboard\\data\\daily_report.csv')\n",
    "\n",
    "countries_df = daily_df[[\"Country_Region\",\"Confirmed\",\"Deaths\",\"Recovered\"]]\n",
    "countries_df = daily_df.groupby(\"Country_Region\").sum().reset_index()\n",
    "\n",
    "countries_df\n"
   ]
  },
  {
   "cell_type": "code",
   "execution_count": null,
   "id": "d501b171-99d3-4580-9e57-998abddbd703",
   "metadata": {},
   "outputs": [],
   "source": []
  }
 ],
 "metadata": {
  "kernelspec": {
   "display_name": "Python 3 (ipykernel)",
   "language": "python",
   "name": "python3"
  },
  "language_info": {
   "codemirror_mode": {
    "name": "ipython",
    "version": 3
   },
   "file_extension": ".py",
   "mimetype": "text/x-python",
   "name": "python",
   "nbconvert_exporter": "python",
   "pygments_lexer": "ipython3",
   "version": "3.12.4"
  }
 },
 "nbformat": 4,
 "nbformat_minor": 5
}
